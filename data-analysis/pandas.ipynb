{
 "cells": [
  {
   "cell_type": "code",
   "execution_count": 1,
   "id": "95b6756c",
   "metadata": {},
   "outputs": [
    {
     "name": "stdout",
     "output_type": "stream",
     "text": [
      "원본 데이터:\n",
      "    A   B    C\n",
      "0  10   5  100\n",
      "1  20  15  200\n",
      "2  30  25  300\n",
      "\n",
      "각 열의 합:\n",
      "A     60\n",
      "B     45\n",
      "C    600\n",
      "dtype: int64\n",
      "\n",
      "각 열의 평균:\n",
      "A     20.0\n",
      "B     15.0\n",
      "C    200.0\n",
      "dtype: float64\n",
      "\n",
      "A - B 결과:\n",
      "0    5\n",
      "1    5\n",
      "2    5\n",
      "dtype: int64\n"
     ]
    }
   ],
   "source": [
    "import pandas as pd\n",
    "\n",
    "# 숫자 데이터 생성\n",
    "data = {\n",
    "    'A': [10, 20, 30],\n",
    "    'B': [5, 15, 25],\n",
    "    'C': [100, 200, 300]\n",
    "}\n",
    "\n",
    "# 데이터프레임 생성\n",
    "df = pd.DataFrame(data)\n",
    "\n",
    "# 출력\n",
    "print(\"원본 데이터:\")\n",
    "print(df)\n",
    "\n",
    "# 열 합계\n",
    "print(\"\\n각 열의 합:\")\n",
    "print(df.sum())\n",
    "\n",
    "# 열 평균\n",
    "print(\"\\n각 열의 평균:\")\n",
    "print(df.mean())\n",
    "\n",
    "# 두 열의 차이 계산\n",
    "print(\"\\nA - B 결과:\")\n",
    "print(df['A'] - df['B'])"
   ]
  }
 ],
 "metadata": {
  "kernelspec": {
   "display_name": "py313",
   "language": "python",
   "name": "python3"
  },
  "language_info": {
   "codemirror_mode": {
    "name": "ipython",
    "version": 3
   },
   "file_extension": ".py",
   "mimetype": "text/x-python",
   "name": "python",
   "nbconvert_exporter": "python",
   "pygments_lexer": "ipython3",
   "version": "3.13.2"
  }
 },
 "nbformat": 4,
 "nbformat_minor": 5
}
