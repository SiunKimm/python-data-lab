{
 "cells": [
  {
   "cell_type": "code",
   "execution_count": null,
   "id": "95b6756c",
   "metadata": {},
   "outputs": [],
   "source": [
    "import pandas as pd\n",
    "\n",
    "# 숫자 데이터 생성\n",
    "data = {\n",
    "    'A': [10, 20, 30],\n",
    "    'B': [5, 15, 25],\n",
    "    'C': [100, 200, 300]\n",
    "}\n",
    "\n",
    "# 데이터프레임 생성\n",
    "df = pd.DataFrame(data)\n",
    "\n",
    "# 출력\n",
    "print(\"원본 데이터:\")\n",
    "print(df)\n",
    "\n",
    "# 열 합계\n",
    "print(\"\\n각 열의 합:\")\n",
    "print(df.sum())\n",
    "\n",
    "# 열 평균\n",
    "print(\"\\n각 열의 평균:\")\n",
    "print(df.mean())\n",
    "\n",
    "# 두 열의 차이 계산\n",
    "print(\"\\nA - B 결과:\")\n",
    "print(df['A'] - df['B'])\n"
   ]
  }
 ],
 "metadata": {
  "language_info": {
   "name": "python"
  }
 },
 "nbformat": 4,
 "nbformat_minor": 5
}
