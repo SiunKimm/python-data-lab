{
 "cells": [
  {
   "cell_type": "code",
   "execution_count": 1,
   "id": "827ec2c5",
   "metadata": {},
   "outputs": [
    {
     "name": "stdout",
     "output_type": "stream",
     "text": [
      "Title: 신규 투석 환자, 한 해 1만6000명 쏟아진다\n",
      "Link: /medical/2025/05/21/22POWOHDUJE5HGINRCLPSA77KY/\n",
      "\n",
      "Title: 입 개운하게 해주는 '이것'…양치 직후 쓰면 오히려 독\n",
      "Link: /medical/2025/05/23/RDHVGNP5JNDVRDR6VSNSKY3PMQ/\n",
      "\n",
      "Title: \"많이 할수록 증상 심각해져\"우리 아이 우울증 부르는 '이것'\n",
      "Link: /medical/2025/05/22/OJQZZOSDJZH4VH2JCEVTRV4D2A/\n",
      "\n",
      "Title: '5분'이 중요합니다! 당장 응급실 가야할 협심증 전조증상\n",
      "Link: /medical/2025/04/08/JD47QSNDIBH63PW6GZSVSYWJUU/\n",
      "\n",
      "Title: 눈꺼풀 처지는 안검하수,10년 새 3배 이상 증가\n",
      "Link: /medical/2025/05/21/PIWRHS42QJD5XGJJBYNZ6WZZXU/\n",
      "\n",
      "Title: 노인 되면 왜 잠자는 시간 짧아질까… 수면 장애 오해와 진실\n",
      "Link: /medical/2023/12/27/2LBS6EKH7ZHW7NQNBYLC445BXM/\n",
      "\n",
      "Title: 35세 이상 고령 산모 증가…'임신중독증' 예방법 A to Z\n",
      "Link: /medical/2025/04/29/2JKOKCOSWFHBNNAUVZCFMWQXPI/\n",
      "\n",
      "Title: 10~30대 여성들은 왜자궁경부암에 많이 걸릴까\n",
      "Link: /medical/2025/04/22/MCFSYZZCJBCE7EZBN75LRZQD6Q/\n",
      "\n",
      "Title: 고령일수록 위험하다…노년기 백혈병 3대 증상\n",
      "Link: /medical/2025/05/20/FLEHHCQDSZAYDIM63G6MJIWULU/\n",
      "\n",
      "Title: '폭싹' 관식도 걸린'다발골수종' 진단법\n",
      "Link: /medical/2025/05/13/MNXRSULSKJHS7PF35B6NHWWRBM/\n",
      "\n",
      "Title: 책 읽는 뇌, 유튜브 보는 뇌이렇게 다릅니다\n",
      "Link: /medical/2025/04/30/W5YYOVALNNHL5HMYBVPBAGRFFI/\n",
      "\n",
      "Title: 기침을 하루에 한번만 해도 만성기침일 수 있다\n",
      "Link: /medical/2025/04/04/6FUENBDWBNH6VAOGWKXTPKZVSE/\n",
      "\n",
      "Title: \"의자가 허리 건강을 결정한다\"좋은 의자 고르는 방법은?\n",
      "Link: /medical/2025/04/09/5IH7IWAJBNFUJB75GFSUC4JKPM/\n",
      "\n",
      "Title: 마데카솔 vs 후시딘상처에 뭘 발라야 할까?\n",
      "Link: /medical/2025/03/27/D6KKMHHW2ZCCJLSDGOVC3MN4P4/\n",
      "\n",
      "Title: 경동맥 협착증 진단 받았다면약물 치료만 해도 괜찮을까\n",
      "Link: /medical/2025/05/22/OFFFE46FKZF7VFWSVLKGPVWF6I/\n",
      "\n",
      "Title: 무릎 관절염엔 근력 운동보다요가가 효과적\n",
      "Link: /medical/2025/05/15/MRTJ6TERNJEBBPLMNWRP6F2RVE/\n",
      "\n",
      "Title: 다양한 과일 즐겨 먹으면이명 줄어들어요\n",
      "Link: /medical/2025/05/01/OBCZZVJ5E5H2TPVU52S5JCCJNE/\n",
      "\n",
      "Title: 당뇨병은 혈압 120으로 낮춰야 심혈관질환 예방\n",
      "Link: /medical/2025/04/24/CF6SWPX6OVFN5LZMEG3MY7OIHY/\n",
      "\n"
     ]
    }
   ],
   "source": [
    "import requests\n",
    "from bs4 import BeautifulSoup\n",
    "\n",
    "URL = \"https://www.chosun.com/medical/\"\n",
    "html_doc = requests.get(URL).text\n",
    "\n",
    "soup = BeautifulSoup(html_doc, 'html.parser')\n",
    "news_list = soup.find_all('a', class_='story-card__headline')\n",
    "title_and_link = []\n",
    "link_set = set()\n",
    "for news in news_list:\n",
    "    title = news.get_text(strip=True)\n",
    "    link = news['href']\n",
    "    # 많은 중복이 있기 때문에 link를 기준으로 중복을 제거\n",
    "    if link not in link_set:\n",
    "        title_and_link.append((title, link))\n",
    "        link_set.add(link)\n",
    "\n",
    "for title, link in title_and_link:\n",
    "    print(f\"Title: {title}\\nLink: {link}\\n\")"
   ]
  }
 ],
 "metadata": {
  "kernelspec": {
   "display_name": "py313",
   "language": "python",
   "name": "python3"
  },
  "language_info": {
   "codemirror_mode": {
    "name": "ipython",
    "version": 3
   },
   "file_extension": ".py",
   "mimetype": "text/x-python",
   "name": "python",
   "nbconvert_exporter": "python",
   "pygments_lexer": "ipython3",
   "version": "3.13.2"
  }
 },
 "nbformat": 4,
 "nbformat_minor": 5
}
